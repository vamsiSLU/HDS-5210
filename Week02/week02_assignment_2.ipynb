{
  "cells": [
    {
      "cell_type": "markdown",
      "metadata": {
        "nbgrader": {
          "grade": false,
          "grade_id": "intro",
          "locked": true,
          "schema_version": 1,
          "solution": false
        },
        "id": "8QBdh2f8Kva1"
      },
      "source": [
        "# Week 2 Programming Exercises\n",
        "\n",
        "See: _McKinney 2.3_ and [Python Documentation](https://docs.python.org/3/tutorial/introduction.html) section 3.1.1 on using Python as a calculator.\n",
        "\n",
        "**At the begining of the semester, all of the workshop programming exercises will be structured a specific way to make it easier to verify for yourself that you're on the right track as well as easier for me to do a first pass on automated grading.  The structure of each question will require you to write a function using Python code. Don't worry that we haven't talked about functions yet. Just edit the code between** `### BEGIN SOLUTION` and `### END SOLUTION` **as shown in the example below.**\n"
      ]
    },
    {
      "cell_type": "markdown",
      "metadata": {
        "id": "wmqNe9wvKva2"
      },
      "source": [
        "**WHAT I PROVIDE:**\n",
        "```\n",
        "def some_function(parameter1, parameter2):\n",
        "\n",
        "   ### BEGIN SOLUTION\n",
        "   x = -1\n",
        "   ### END SOLUTION\n",
        "   \n",
        "   return x\n",
        "```\n",
        "\n",
        "**WHAT YOU SHOULD DO:** Just change the parameter names (if you feel you need to) and the calculations between `### BEGIN SOLUTION` and `### END SOLUTION`.  This is just a made up example.\n",
        "```\n",
        "def some_function(a, b):\n",
        "\n",
        "   ### BEGIN SOLUTION\n",
        "   temp = a + b\n",
        "   x = temp / a * b\n",
        "   ### END SOLUTION\n",
        "   \n",
        "   return x\n",
        "```\n"
      ]
    },
    {
      "cell_type": "markdown",
      "metadata": {
        "id": "ZhCa5hrBKva3"
      },
      "source": [
        "---\n",
        "---\n",
        "\n",
        "**Below each programming exercise are some tests (`assertions`) that verify your code is working correctly.  If any assertions fail, you know that something isnt' right with your code, but having all assertions pass doesn't necessarily mean your code is perfect, yet. You should also create your own tests to make sure your code is correct.**\n",
        "\n",
        "**For now, please don't change any function names**"
      ]
    },
    {
      "cell_type": "markdown",
      "metadata": {
        "nbgrader": {
          "grade": false,
          "grade_id": "bmi",
          "locked": true,
          "schema_version": 1,
          "solution": false
        },
        "id": "3nYmITRIKva3"
      },
      "source": [
        "### 5.1 BMI Calculation\n",
        "\n",
        "Create new names for the variables that you need in the code framework below and use the variables to compute the corresponding body mass index (BMI). You can use any meaningful variable names you like. When you compute the BMI, assign a variable to it, and then print the result to the notebook's output.\n",
        "\n",
        "* Weght in kilograms is 90.7\n",
        "* Height in meters in 1.82\n",
        "\n",
        "Note that a simple BMI calculation is weight in kilograms divided by the square of height in meters.\n",
        "\n",
        "$ bmi = \\frac{weight\\,\\mathrm{kg}}{(height\\,\\mathrm{m})^2} $\n",
        "\n",
        "For this problem, you'll be graded both on proper calculation as well as on programming style and appropriate variables names.\n",
        "\n",
        "_Also note that BMI should not be considered a universal measure of health or fitness. A health BMI can vary greatly depending on many other fitness conditions and body types._"
      ]
    },
    {
      "cell_type": "code",
      "execution_count": null,
      "metadata": {
        "nbgrader": {
          "grade": false,
          "grade_id": "bmi-answer",
          "locked": false,
          "schema_version": 1,
          "solution": true
        },
        "id": "l9Em-bYEKva4"
      },
      "outputs": [],
      "source": [
        "def bmi(weight_kg, height_m):\n",
        "\n",
        "    # 1. Change the names of parameter1 and parameter2 to be something more meaningful\n",
        "    # 2. Change the name of the return variable below\n",
        "\n",
        "    ### BEGIN SOLUTION\n",
        "    answer = -1\n",
        "    ### END SOLUTION\n",
        "\n",
        "    return answer"
      ]
    },
    {
      "cell_type": "code",
      "source": [
        "def bmi(body_weight_in_kg, height_in_mts):\n",
        "  # Body Mass Index(BMI) is calculated using the formula: weight kg/(height mts**2)\n",
        "  bmi= body_weight_in_kg/(height_in_mts**2)\n",
        "  # Return to body_mass_index\n",
        "  return bmi\n"
      ],
      "metadata": {
        "id": "_gyly0jELAwp"
      },
      "execution_count": 99,
      "outputs": []
    },
    {
      "cell_type": "markdown",
      "metadata": {
        "nbgrader": {
          "grade": false,
          "grade_id": "bmi-validate",
          "locked": true,
          "schema_version": 1,
          "solution": false
        },
        "id": "dCMwJUoyKva5"
      },
      "source": [
        "Test your code below.  The BMI for a weight of 90.7 kg and height of 182 cm should be approximately 27.38"
      ]
    },
    {
      "cell_type": "code",
      "source": [
        " body_weight_in_kg= 90.7\n",
        " height_in_mts=1.82\n",
        " # Computing the body_mass_index\n",
        " bmi_output=  bmi(body_weight_in_kg, height_in_mts )\n",
        " # Print the result\n",
        " print(f\"The BMI is: {bmi_output:.2f}\")"
      ],
      "metadata": {
        "id": "mPm8Q3bLK8j4",
        "outputId": "5735f875-3998-4142-84f8-807dbf99cfc3",
        "colab": {
          "base_uri": "https://localhost:8080/"
        }
      },
      "execution_count": 100,
      "outputs": [
        {
          "output_type": "stream",
          "name": "stdout",
          "text": [
            "The BMI is: 27.38\n"
          ]
        }
      ]
    },
    {
      "cell_type": "code",
      "source": [
        "assert round(bmi(90.7, 1.82), 2) == 27.38\n",
        "assert round(bmi(91, 1.80), 2) == 28.09\n",
        "assert round(bmi(70, 1.70), 2) == 24.22"
      ],
      "metadata": {
        "id": "PXJybTniPqha"
      },
      "execution_count": 101,
      "outputs": []
    },
    {
      "cell_type": "code",
      "execution_count": 102,
      "metadata": {
        "id": "6nWSWrBFKva6",
        "outputId": "3c825c15-120a-408a-a85c-f5e74bf82956",
        "colab": {
          "base_uri": "https://localhost:8080/"
        }
      },
      "outputs": [
        {
          "output_type": "execute_result",
          "data": {
            "text/plain": [
              "27.38195870064002"
            ]
          },
          "metadata": {},
          "execution_count": 102
        }
      ],
      "source": [
        "bmi(90.7, 1.82)"
      ]
    },
    {
      "cell_type": "code",
      "source": [
        "# Print the result\n",
        "print(bmi(90.7, 1.82))"
      ],
      "metadata": {
        "id": "9gajKzc8QV3u",
        "outputId": "2a8f6c8a-aede-4bf1-ba61-bfdc3a164828",
        "colab": {
          "base_uri": "https://localhost:8080/"
        }
      },
      "execution_count": 103,
      "outputs": [
        {
          "output_type": "stream",
          "name": "stdout",
          "text": [
            "27.38195870064002\n"
          ]
        }
      ]
    },
    {
      "cell_type": "markdown",
      "metadata": {
        "id": "U-CkeqGuKva6"
      },
      "source": [
        "### 5.2 Weight from BMI\n",
        "\n",
        "For the next operation, we're going to calculate Weight in kilograms, given someone's BMI and their height in meters.\n",
        "\n",
        "This calculation will be:  $ weight\\,\\mathrm{kg} = {bmi}\\times{(height\\,\\mathrm{m})^2} $"
      ]
    },
    {
      "cell_type": "code",
      "execution_count": null,
      "metadata": {
        "id": "rAtPDvchKva6"
      },
      "outputs": [],
      "source": [
        "def weight(bmi, height_m):\n",
        "\n",
        "    ### BEGIN SOLUTION\n",
        "    w = -1\n",
        "    ### END SOLUTION\n",
        "\n",
        "    return w"
      ]
    },
    {
      "cell_type": "code",
      "source": [
        "def weight(body_mass_index,height_in_mts):\n",
        "# Calculate  weight using the formula:  weight= body_mass_index*(height_in_mts**2)\n",
        "     weight=  body_mass_index*(height_in_mts ** 2)\n",
        "    # Return to weight\n",
        "\n",
        "     return weight\n"
      ],
      "metadata": {
        "id": "R9clj364Qq2t"
      },
      "execution_count": 106,
      "outputs": []
    },
    {
      "cell_type": "code",
      "source": [
        "# Lets assume body_mass_index of a person is 27.38 and height_in_mts is 1.82\n",
        "body_mass_index= 27.38\n",
        "height_in_mts=1.82\n",
        "# Computing weight_output\n",
        "weight_output=  body_weight_in_kg(body_mass_index,height_in_mts)\n",
        "# Print the result\n",
        "print(f\"Weight of the person is:{weight_output:.2f} kgs\")\n",
        "\n"
      ],
      "metadata": {
        "colab": {
          "base_uri": "https://localhost:8080/"
        },
        "id": "W-AgX4fmemKl",
        "outputId": "7375497f-812f-4b32-c206-83868adfb874"
      },
      "execution_count": 107,
      "outputs": [
        {
          "output_type": "stream",
          "name": "stdout",
          "text": [
            "Weight of the person is:90.69 kgs\n"
          ]
        }
      ]
    },
    {
      "cell_type": "code",
      "execution_count": 108,
      "metadata": {
        "id": "3Ra9BkTXKva7"
      },
      "outputs": [],
      "source": [
        "assert round(weight(27.38, 1.82),2) == 90.69\n",
        "assert round(weight(28.09, 1.80),2) == 91.01\n",
        "assert round(weight(24.22, 1.70),2) == 70.00"
      ]
    },
    {
      "cell_type": "code",
      "source": [
        "# Lets assume body_mass_index is 27.38 and height_in_mts is 1.82\n",
        "# Print the result\n",
        "print(weight(27.38, 1.82))"
      ],
      "metadata": {
        "id": "YGT9zXxVS9T2",
        "outputId": "077ffaa0-c5f2-4176-cbcf-cf61e4228665",
        "colab": {
          "base_uri": "https://localhost:8080/"
        }
      },
      "execution_count": 109,
      "outputs": [
        {
          "output_type": "stream",
          "name": "stdout",
          "text": [
            "90.693512\n"
          ]
        }
      ]
    },
    {
      "cell_type": "markdown",
      "metadata": {
        "id": "xwh6h1UyKva7"
      },
      "source": [
        "### 5.3 Height from BMI\n",
        "\n",
        "\n",
        "For the next operation, we're going to calculate height in meters, given someone's BMI and their weight in kilograms.\n",
        "\n",
        "This calculation will be:  $ {height\\,\\mathrm{m}} = \\sqrt{\\frac{weight\\,\\mathrm{kg}}{bmi}} $\n",
        "\n",
        "For this equation, you'll notice that we need to calculate a square root.  Python has a function for this of course, `sqrt`, but that function is not part of the base Python language. Some Python features have to be imported.  The first line of code below imports the `sqrt` function from the [math](https://docs.python.org/3/library/math.html) library.\n"
      ]
    },
    {
      "cell_type": "code",
      "execution_count": null,
      "metadata": {
        "id": "UlaWhBuWKva7"
      },
      "outputs": [],
      "source": [
        "from math import sqrt\n",
        "def height(bmi, weight_kg):\n",
        "\n",
        "    ### BEGIN SOLUTION\n",
        "    h = -1\n",
        "    ### END SOLUTION\n",
        "\n",
        "    return h"
      ]
    },
    {
      "cell_type": "code",
      "source": [
        "from math import sqrt\n",
        "def height(body_mass_index,body_weight_in_kg):\n",
        "  # Calculate the height using the formula: height = math.sqrt(body_weight_in_kg /body_mass_index )\n",
        "  height = sqrt(body_weight_in_kg /body_mass_index )\n",
        "  # Return to height\n",
        "  return height\n"
      ],
      "metadata": {
        "id": "rJPz4gIyUFy_"
      },
      "execution_count": 110,
      "outputs": []
    },
    {
      "cell_type": "code",
      "source": [
        "# Lets assume body_mass_index of a person is 27.38 and body_weight_in_kg is 90.69\n",
        "body_mass_index= 27.38\n",
        "body_weight_in_kg= 90.69\n",
        "# Computing height_output\n",
        "height_output= height(body_mass_index,body_weight_in_kg)\n",
        "# Print the result\n",
        "print(f\"Height of the person is:{height_output:.2f} mts\")"
      ],
      "metadata": {
        "colab": {
          "base_uri": "https://localhost:8080/"
        },
        "id": "qwre__93h1qs",
        "outputId": "940383bb-dffb-4f24-d67f-03aae08b206b"
      },
      "execution_count": 112,
      "outputs": [
        {
          "output_type": "stream",
          "name": "stdout",
          "text": [
            "Height of the person is:1.82 mts\n"
          ]
        }
      ]
    },
    {
      "cell_type": "code",
      "execution_count": 113,
      "metadata": {
        "id": "kq-qFNKnKva8"
      },
      "outputs": [],
      "source": [
        "assert round(height(27.38, 90.69),2) == 1.82\n",
        "assert round(height(28.09, 91.01),2) == 1.80\n",
        "assert round(height(24.22, 70.00),2) == 1.70"
      ]
    },
    {
      "cell_type": "code",
      "source": [
        "# Lets assume body_mass_index is 27.38 and body_weight_in_kg is 90.69\n",
        "# Print the result\n",
        "print(height(27.38, 90.69))"
      ],
      "metadata": {
        "id": "kyqDDB34j58g",
        "outputId": "1ac5fbbc-51ab-4201-c5c2-dbc3e1e32531",
        "colab": {
          "base_uri": "https://localhost:8080/"
        }
      },
      "execution_count": 114,
      "outputs": [
        {
          "output_type": "stream",
          "name": "stdout",
          "text": [
            "1.8199647609749618\n"
          ]
        }
      ]
    },
    {
      "cell_type": "markdown",
      "metadata": {
        "id": "WldgzEHiKva8"
      },
      "source": [
        "### 5.4 BMI using Feet, Inches, and Pounds\n",
        "\n",
        "Now, let's try to to create a function that knows how to first convert between imperial units (US inches and pounds) and SI units before calculating the bmi.  For these calculations use:\n",
        "\n",
        "* $ 1\\,\\mathrm{inch} = 2.54\\,\\mathrm{cm} $\n",
        "* $ 1\\,\\mathrm{lb} = 0.45454545\\,\\mathrm{kg} $\n"
      ]
    },
    {
      "cell_type": "code",
      "execution_count": null,
      "metadata": {
        "id": "BSa57GBnKva8"
      },
      "outputs": [],
      "source": [
        "def bmi_us(weight_lb, height_ft, height_in):\n",
        "\n",
        "    ### BEGIN SOLUTION\n",
        "    answer = -1\n",
        "    ### END SOLUTION\n",
        "\n",
        "    return answer"
      ]
    },
    {
      "cell_type": "code",
      "source": [
        "def bmi_us(body_weight_in_lb, height_in_ft, height_in_inches):\n",
        "  # Convert weight from pounds to kilograms\n",
        "    body_weight_in_kg = body_weight_in_lb * 0.45454545\n",
        "  # Convert height from feet and inches to meters\n",
        "    total_inches = height_in_ft * 12 + height_in_inches\n",
        "    height_in_mts = total_inches * 0.0254\n",
        "  # Calculate BMI using the formula: weight / (height**2)\n",
        "    bmi_output = body_weight_in_kg / (height_in_mts ** 2)\n",
        "   # Return the output BMI\n",
        "    return bmi_output\n"
      ],
      "metadata": {
        "id": "STomFzQQkju3"
      },
      "execution_count": 115,
      "outputs": []
    },
    {
      "cell_type": "code",
      "source": [
        "# Lets assume\n",
        "body_weight_in_lb=250\n",
        "height_in_ft=6\n",
        "height_in_inches=4\n",
        "# Computing the body mass index\n",
        "bmi_output= bmi_us(body_weight_in_lb, height_in_ft, height_in_inches)\n",
        "# Print the result\n",
        "print(f\"The BMI is:{bmi_output:.2f}\")"
      ],
      "metadata": {
        "id": "QcPsDkcfpFC1",
        "outputId": "ec75e84e-9dbc-4168-e4cc-222ad0f99b45",
        "colab": {
          "base_uri": "https://localhost:8080/"
        }
      },
      "execution_count": 116,
      "outputs": [
        {
          "output_type": "stream",
          "name": "stdout",
          "text": [
            "The BMI is:30.49\n"
          ]
        }
      ]
    },
    {
      "cell_type": "code",
      "execution_count": 117,
      "metadata": {
        "id": "oq6lPE2yKva8"
      },
      "outputs": [],
      "source": [
        "assert round(bmi_us(250,6,4),2) == 30.49\n",
        "assert round(bmi_us(120,5,0),2) == 23.48\n",
        "assert round(bmi_us(130,5,10),2) == 18.69"
      ]
    },
    {
      "cell_type": "code",
      "source": [
        "# Print the result\n",
        "print(bmi_us(250, 6, 4))"
      ],
      "metadata": {
        "id": "v0cXY9M9momC",
        "outputId": "fba0f41a-dffb-48b5-deed-55e356b7db96",
        "colab": {
          "base_uri": "https://localhost:8080/"
        }
      },
      "execution_count": 118,
      "outputs": [
        {
          "output_type": "stream",
          "name": "stdout",
          "text": [
            "30.494583474450884\n"
          ]
        }
      ]
    },
    {
      "cell_type": "markdown",
      "metadata": {
        "nbgrader": {
          "grade": false,
          "grade_id": "weight",
          "locked": true,
          "schema_version": 1,
          "solution": false
        },
        "id": "rvS4oO9SKva8"
      },
      "source": [
        "### 5.5 Target BMI\n",
        "Assuming that someone doesn't change height over time, what is the approximate number of days it will take for someone to get from the BMI you found in #3 above to a BMI of 24.9 (typically regarded as being in a healthy range) while losing weight at a rate of 0.75 kg per week.\n",
        "\n",
        "As needed, use variables and multiple calculation steps to make your thought process visible in the code. For instance, rather than using the notebook as a calculator, use variables for intermediate answers.\n",
        "\n",
        "Again, you will receive points both for correct answers as well as for style.\n",
        "\n",
        "In addition to the bmi, height, and weight equations we already defined above, here is some of the algebra to help you along:\n",
        "\n",
        "$ height\\,\\mathrm{m} = \\frac{height\\,\\mathrm{cm}}{100} $\n",
        "\n",
        "$ days = {weeks} x {7} $\n",
        "\n",
        "$ weeks\\,required\\,to\\,change\\,weight = \\frac{current\\,weight - target\\,weight}{weight\\,change\\,per\\,week} $"
      ]
    },
    {
      "cell_type": "code",
      "execution_count": null,
      "metadata": {
        "nbgrader": {
          "grade": false,
          "grade_id": "weight-answer",
          "locked": false,
          "schema_version": 1,
          "solution": true
        },
        "id": "Ewgs4jpPKva8"
      },
      "outputs": [],
      "source": [
        "def lose_weight(weight, height, kg_per_week, target_bmi):\n",
        "\n",
        "    # Note that the variables you need area already named for you:\n",
        "    # height is the height in cm\n",
        "    # weight is the weight in kg\n",
        "    # kg_per_week is how much the person wants to lose per week\n",
        "    # target_bmi is the intended target bmi\n",
        "\n",
        "    ### BEGIN SOLUTION\n",
        "    days = -1\n",
        "    ### END SOLUTION\n",
        "\n",
        "    return days"
      ]
    },
    {
      "cell_type": "code",
      "source": [
        "def lose_weight(weight, height, kg_per_week, target_bmi):\n",
        "  # converting height from centimeters to meters\n",
        "  height_in_mts=height/100\n",
        "  # Calculating the current body mass index\n",
        "  current_BMI=weight/(height_in_mts**2)\n",
        "  # calculating the target weight to be reached based on the target BMI\n",
        "  target_weight=target_bmi*(height_in_mts**2)\n",
        "  # calculating the weight needed to lose\n",
        "  weight_to_be_lost = weight - target_weight\n",
        "  # calculating the number of weeks needed to change the weight\n",
        "  weeks_required= weight_to_be_lost/kg_per_week\n",
        "  # calculating the total number of days required\n",
        "  days=weeks_required*7\n",
        "  return days\n",
        "\n",
        "\n"
      ],
      "metadata": {
        "id": "i60Z8BiCr1t-"
      },
      "execution_count": 119,
      "outputs": []
    },
    {
      "cell_type": "code",
      "source": [
        "weight=90.7\n",
        "height=182\n",
        "kg_per_week=0.75\n",
        "target_bmi=24.9\n",
        "# calculating number of days required to reach the target BMI\n",
        "days_required=lose_weight(weight, height, kg_per_week, target_bmi)\n",
        "print(f\"The approximate number of days it will take for someone to reach the target BMI:{days_required}\")"
      ],
      "metadata": {
        "colab": {
          "base_uri": "https://localhost:8080/"
        },
        "id": "AKzuHficKm2o",
        "outputId": "1d110006-9c40-4514-f6bf-62ca78194418"
      },
      "execution_count": 120,
      "outputs": [
        {
          "output_type": "stream",
          "name": "stdout",
          "text": [
            "The approximate number of days it will take for someone to reach the target BMI:76.73157333333342\n"
          ]
        }
      ]
    },
    {
      "cell_type": "markdown",
      "metadata": {
        "id": "jOekeDgyKva9"
      },
      "source": [
        "Test your code below.  It should return approximately 76.73 days for the given parameters above."
      ]
    },
    {
      "cell_type": "code",
      "execution_count": 121,
      "metadata": {
        "nbgrader": {
          "grade": true,
          "grade_id": "weight-tests",
          "locked": true,
          "points": 5,
          "schema_version": 1,
          "solution": false
        },
        "id": "1VF6w3-rKva9"
      },
      "outputs": [],
      "source": [
        "assert round(lose_weight(90.7, 182, 0.75, 24.9),2) == 76.73\n",
        "assert round(lose_weight(91, 180, 0.75, 24.9),2) == 96.36\n",
        "assert round(lose_weight(70, 170, 0.75, 22),2) == 59.92\n",
        "assert round(lose_weight(70, 170, 2, 22),2) == 22.47\n"
      ]
    },
    {
      "cell_type": "code",
      "execution_count": 122,
      "metadata": {
        "id": "p_3ONItgKva9",
        "outputId": "fdeb9203-f839-4b42-d083-c1a12a2021b8",
        "colab": {
          "base_uri": "https://localhost:8080/"
        }
      },
      "outputs": [
        {
          "output_type": "execute_result",
          "data": {
            "text/plain": [
              "76.73157333333342"
            ]
          },
          "metadata": {},
          "execution_count": 122
        }
      ],
      "source": [
        "lose_weight(90.7, 182, 0.75, 24.9)"
      ]
    },
    {
      "cell_type": "markdown",
      "metadata": {
        "id": "xwyod6d8Kva9"
      },
      "source": [
        "---\n",
        "\n",
        "### 5.6 Your choice\n",
        "\n",
        "Every one of us has done projects where some kind of simple mathematical calculators are required.  Think about something recent from your field of expertise or an area of interest. Choose something that you find interesting and write the Python code required to do that calculation.  These examples show the level of complexity you need to have (not very complex).\n",
        "\n",
        "* $ bmr_{male} = 66 + (13.7 \\times weight\\,\\mathrm{kg}) + (5 \\times height\\,\\mathrm{m}) - (6.8 \\times age\\,\\mathrm{yr}) $\n",
        "\n",
        "* $ bmr_{female} = 655 + (9.6 \\times weight\\,\\mathrm{kg}) + (1.8 \\times height\\,\\mathrm{cm}) - (4.7 \\times age\\,\\mathrm{yr}) $\n",
        "\n",
        "* $ Batting\\,Average = \\frac{Total\\,Hits}{Total\\,at\\,Bats} $\n",
        "\n",
        "* $ Area\\,of\\,circle = \\pi r^2 $\n",
        "\n",
        "* $ F = \\frac{1}{2} m v^2 $\n",
        "\n",
        "Then provide the code for how you would use variables and example values to do the calculation.  You do not to wrap this in a Python function. Just include the code and variables as I've shown below with the BMI calculation that we've been using. As the last command in the cell, print out the value of your calculation as shown in my example.\n"
      ]
    },
    {
      "cell_type": "code",
      "source": [
        "# Calculating the acceleration of an object\n",
        "def calculate_acceleration(final_velocity, initial_velocity, time):\n",
        "# Using the formula acceleration=(final_velocity - initial_velocity) / time\n",
        " acceleration=(final_velocity - initial_velocity) / time\n",
        " return acceleration\n",
        "\n",
        "# Let's assume a bike accelerates from 45m/s to 95m/s in 7 seconds. What is the acceleration\n",
        "final_velocity = 95 # in meters per second\n",
        "initial_velocity = 45 # in meters per second\n",
        "time = 7  # in seconds\n",
        "\n",
        "acceleration= calculate_acceleration(final_velocity, initial_velocity, time)\n",
        "print(f\"The acceleration of the bike is: {acceleration:.2f}  meters per second squared\")\n",
        "\n",
        "\n"
      ],
      "metadata": {
        "colab": {
          "base_uri": "https://localhost:8080/"
        },
        "id": "WW9E7GkL-WHr",
        "outputId": "ead3b41b-e585-44db-fe0d-a6d389631850"
      },
      "execution_count": 123,
      "outputs": [
        {
          "output_type": "stream",
          "name": "stdout",
          "text": [
            "The acceleration of the bike is: 7.14  meters per second squared\n"
          ]
        }
      ]
    },
    {
      "cell_type": "code",
      "execution_count": 90,
      "metadata": {
        "id": "99B1ZzjMKva9"
      },
      "outputs": [],
      "source": [
        "def my_function(a, b):\n",
        "    c = a ** b\n",
        "    return c"
      ]
    },
    {
      "cell_type": "code",
      "execution_count": 91,
      "metadata": {
        "id": "vPBkv0trKva9",
        "outputId": "472ba2a6-4709-4a63-a821-2e9c918123da",
        "colab": {
          "base_uri": "https://localhost:8080/"
        }
      },
      "outputs": [
        {
          "output_type": "execute_result",
          "data": {
            "text/plain": [
              "1"
            ]
          },
          "metadata": {},
          "execution_count": 91
        }
      ],
      "source": [
        "my_function(1, 8)"
      ]
    },
    {
      "cell_type": "code",
      "execution_count": 92,
      "metadata": {
        "id": "BWAhgr58Kva9",
        "outputId": "1deee0b2-faaa-483e-c343-bc7ecd1955c0",
        "colab": {
          "base_uri": "https://localhost:8080/"
        }
      },
      "outputs": [
        {
          "output_type": "execute_result",
          "data": {
            "text/plain": [
              "256"
            ]
          },
          "metadata": {},
          "execution_count": 92
        }
      ],
      "source": [
        "my_function(2, 8)"
      ]
    },
    {
      "cell_type": "markdown",
      "metadata": {
        "id": "-eQNScYZKva9"
      },
      "source": [
        "---\n",
        "\n",
        "## Check your work above\n",
        "\n",
        "If you didn't get them all correct, take a few minutes to think through those that aren't correct.\n",
        "\n",
        "\n",
        "## Submitting Your Work\n",
        "\n",
        "In order to submit your work, you'll need to save this notebook file back to GitHub.  To do that in Google Colab:\n",
        "1. File -> Save a Copy in GitHub\n",
        "2. Make sure your HDS5210 repository is selected\n",
        "3. Make sure the file name includes the week number like this: `week02/week02_assignment_2.ipynb`\n",
        "4. Add a commit message that means something\n",
        "\n",
        "**Be sure week names are lowercase and use a two digit week number!!**\n",
        "\n",
        "**Be sure you use the same file name provided by the instructor!!**\n",
        "\n"
      ]
    }
  ],
  "metadata": {
    "celltoolbar": "Create Assignment",
    "kernelspec": {
      "display_name": "Python 3",
      "language": "python",
      "name": "python3"
    },
    "language_info": {
      "codemirror_mode": {
        "name": "ipython",
        "version": 3
      },
      "file_extension": ".py",
      "mimetype": "text/x-python",
      "name": "python",
      "nbconvert_exporter": "python",
      "pygments_lexer": "ipython3",
      "version": "3.6.7"
    },
    "colab": {
      "provenance": []
    }
  },
  "nbformat": 4,
  "nbformat_minor": 0
}