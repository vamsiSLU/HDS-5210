{
  "cells": [
    {
      "cell_type": "markdown",
      "metadata": {
        "id": "view-in-github",
        "colab_type": "text"
      },
      "source": [
        "<a href=\"https://colab.research.google.com/github/vamsiSLU/HDS-5210/blob/main/week14_extra_credit.ipynb\" target=\"_parent\"><img src=\"https://colab.research.google.com/assets/colab-badge.svg\" alt=\"Open In Colab\"/></a>"
      ]
    },
    {
      "cell_type": "markdown",
      "metadata": {
        "id": "0KB2HGQIJ_cX"
      },
      "source": [
        "# Week 14 Extra Credit - How will ChatGPT do on your final project idea?\n",
        "\n",
        "This extra credit assignment is entirely optional.  You do not need to do it.\n",
        "\n",
        "If you would like the opportunity to earn up to 5 extra credit points, complete this assignment and submit it via GitHub as normal before Monday, November 27 at 11:59 PM CST.  No late submissions will be accepted.  The file must be saved to your week13 folder in GitHub."
      ]
    },
    {
      "cell_type": "markdown",
      "metadata": {
        "id": "hj5n6YfQJ_cY"
      },
      "source": [
        "## Part 1: Have a conversation with ChatGPT\n",
        "\n",
        "I want you to have a conversation with ChatGPT about your final project idea.  Find out what it thinks about your idea and if it has any data sources (URLs for specific sites) that could be helpful.  Below, either include copy/paste the chat history from your conversation or include a link to the shared chat.  (ChatGPT has an [option to share a link to a specific conversation](https://help.openai.com/en/articles/7925741-chatgpt-shared-links-faq).  It's the up-arrow icon in the upper-right corner of your chat window.)\n",
        "\n",
        "Take this conversationw with ChatGPT as far as you want, but at least ask three or four follow-up questions to refine the information you're getting back.\n",
        "\n",
        "If it starts giving you links to information, don't assume they're going to work. Remember that ChatGPT isn't perfect. So, follow the links and make sure there's information there that matches what ChatGPT says you will find."
      ]
    },
    {
      "cell_type": "markdown",
      "metadata": {
        "id": "jq5J47CjJ_cZ"
      },
      "source": [
        "**RESPONSE**\n",
        "\n",
        "Link to the chat: https://chatgpt.com/share/674d1e12-dfe0-8012-9f56-ce57842bffcf\n"
      ]
    },
    {
      "cell_type": "markdown",
      "metadata": {
        "id": "opDG8GKKJ_cZ"
      },
      "source": [
        "### Part 2: Your reflection\n",
        "\n",
        "Below, tell me what you think ChatGPT did well or not well in your conversation.  Was it good at finding data that you needed?  Was it good at finding actual links that worked?  Did its responses make sense to you?  What did it do well / not well?\n",
        "\n",
        "Your response below should be several sentences.  If you don't have enough feedback, expand your conversation with ChatGPT.  Ask it refine your project idea or start writing code for you.  See what it can do."
      ]
    },
    {
      "cell_type": "markdown",
      "metadata": {
        "id": "s8ssL92tJ_ca"
      },
      "source": [
        "**RESPONSE**\n",
        "\n",
        "* ChatGPT did a great job helping me analyze COVID-19 datasets. It explained the strengths and weaknesses of data sources like OWID, WHO, ECDC, and Kaggle, pointing out key differences in how the data is reported and the level of detail available. I found its tips on cleaning and preparing data useful, especially since it provided Python code examples to show how I could apply those methods. This made the advice practical and easy to follow.\n",
        "* It also gave solid suggestions for handling challenges, like comparing data from different sources, using cross-validation, and testing results with sensitivity analysis. I valued how it highlighted the need to thoroughly document each step of the process and clearly acknowledge the data's limitations. These are essential aspects of any well-executed data science project.\n",
        "* However, there is room for improvement. Some parts of the responses felt a bit repetitive, especially when talking about data-cleaning methods. Also, while it described the datasets well, it did not provide direct links to them, which would have saved me time. In some cases, the advice could have been more specific. For instance, when dealing with conflicting data between sources, it gave general ideas like averaging or reporting ranges but did not explain when to use each approach. Similarly, its suggestion to use sensitivity analysis could have included more detail on how to carry it out.\n",
        "* Overall, ChatGPT was incredibly helpful. It broke down the tasks, offered actionable advice, and showed a strong understanding of data science principles. If it were a bit more concise, included direct links, and offered more detailed guidance in certain areas, it would be even better. Despite these minor issues, it was a great tool and gave me confidence in tackling my project.\n"
      ]
    },
    {
      "cell_type": "markdown",
      "metadata": {
        "id": "_g2BL46ZJ_ca"
      },
      "source": [
        "### Submitting\n",
        "\n",
        "Submit this as normal to GitHub with the name `week14/week14_extra_credit.ipynb`"
      ]
    },
    {
      "cell_type": "markdown",
      "metadata": {
        "id": "ykDOJ2e6J_ca"
      },
      "source": []
    }
  ],
  "metadata": {
    "language_info": {
      "name": "python"
    },
    "colab": {
      "provenance": [],
      "include_colab_link": true
    }
  },
  "nbformat": 4,
  "nbformat_minor": 0
}