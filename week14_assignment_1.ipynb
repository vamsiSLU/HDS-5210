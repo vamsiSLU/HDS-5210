{
  "cells": [
    {
      "cell_type": "markdown",
      "metadata": {
        "id": "view-in-github",
        "colab_type": "text"
      },
      "source": [
        "<a href=\"https://colab.research.google.com/github/vamsiSLU/HDS-5210/blob/main/week14_assignment_1.ipynb\" target=\"_parent\"><img src=\"https://colab.research.google.com/assets/colab-badge.svg\" alt=\"Open In Colab\"/></a>"
      ]
    },
    {
      "cell_type": "markdown",
      "metadata": {
        "nbgrader": {
          "grade": false,
          "grade_id": "cell-fc1c39d0d6f8b82a",
          "locked": true,
          "schema_version": 1,
          "solution": false
        },
        "id": "cpRqH6Z7HI9a"
      },
      "source": [
        "# Week 14 Review Assignmnet\n",
        "\n",
        "For the questions below, we're going to refer exclusively to an HHCAPS survey data set that is available in `/data/hhcaps.csv`.  Use whatever commands you want to calculate the information required to get to the answer.  Then, enter your answer in the answers cell as usual.\n",
        "\n",
        "**NOTE: Enter your answers as string values (inside quotation marks \"\") even if the answer is actually numeric.**\n",
        "\n",
        "---\n",
        "---\n"
      ]
    },
    {
      "cell_type": "code",
      "execution_count": 10,
      "metadata": {
        "nbgrader": {
          "grade": false,
          "grade_id": "intro",
          "locked": true,
          "schema_version": 1,
          "solution": false
        },
        "id": "HclKA_7NHI9c"
      },
      "outputs": [],
      "source": [
        "%matplotlib inline\n",
        "import pandas as pd\n",
        "\n",
        "hhcaps = pd.read_csv('https://hds5210-data.s3.amazonaws.com/hhcaps.csv')"
      ]
    },
    {
      "cell_type": "markdown",
      "metadata": {
        "nbgrader": {
          "grade": false,
          "grade_id": "q01-intro",
          "locked": true,
          "schema_version": 1,
          "solution": false
        },
        "id": "XwDNw0wnHI9c"
      },
      "source": [
        "## #01 -\n",
        "\n",
        "How many columns does this file contain?"
      ]
    },
    {
      "cell_type": "code",
      "execution_count": 11,
      "metadata": {
        "colab": {
          "base_uri": "https://localhost:8080/"
        },
        "id": "il1S6ycNHI9d",
        "outputId": "1addce87-2cc6-44f6-9540-ef0c2a12592e"
      },
      "outputs": [
        {
          "output_type": "execute_result",
          "data": {
            "text/plain": [
              "39"
            ]
          },
          "metadata": {},
          "execution_count": 11
        }
      ],
      "source": [
        "# Write some code to figure it out\n",
        "# Counting the total number of columns\n",
        "num_columns = hhcaps.shape[1]\n",
        "num_columns"
      ]
    },
    {
      "cell_type": "code",
      "execution_count": 12,
      "metadata": {
        "nbgrader": {
          "grade": false,
          "grade_id": "q01-solution",
          "locked": false,
          "schema_version": 1,
          "solution": true
        },
        "id": "46fWwSIyHI9d"
      },
      "outputs": [],
      "source": [
        "answers={}\n",
        "answers['40.1'] = 39 # NOTE: Use a number, not string to answer this question"
      ]
    },
    {
      "cell_type": "markdown",
      "metadata": {
        "nbgrader": {
          "grade": false,
          "grade_id": "q02-intro",
          "locked": true,
          "schema_version": 1,
          "solution": false
        },
        "id": "Zm2cXDDBHI9d"
      },
      "source": [
        "## #02 -\n",
        "\n",
        "How many different values for State are there in this file?"
      ]
    },
    {
      "cell_type": "code",
      "execution_count": 13,
      "metadata": {
        "colab": {
          "base_uri": "https://localhost:8080/"
        },
        "id": "5PFBNlu7HI9d",
        "outputId": "918fa60c-15a7-46a6-8632-1b52ac0b1694"
      },
      "outputs": [
        {
          "output_type": "execute_result",
          "data": {
            "text/plain": [
              "55"
            ]
          },
          "metadata": {},
          "execution_count": 13
        }
      ],
      "source": [
        "# Write some code to figure it out\n",
        "# Calculating the number of different values in the State column\n",
        "num_of_unique_states = hhcaps['State'].nunique()\n",
        "\n",
        "num_of_unique_states"
      ]
    },
    {
      "cell_type": "code",
      "execution_count": 14,
      "metadata": {
        "nbgrader": {
          "grade": false,
          "grade_id": "q02-solution",
          "locked": false,
          "schema_version": 1,
          "solution": true
        },
        "id": "FCTvqTDfHI9e"
      },
      "outputs": [],
      "source": [
        "answers['40.2'] = 55 # NOTE: Use a number, not a string to answer this question"
      ]
    },
    {
      "cell_type": "markdown",
      "metadata": {
        "nbgrader": {
          "grade": false,
          "grade_id": "q03-intro",
          "locked": true,
          "schema_version": 1,
          "solution": false
        },
        "id": "7jM8hoSDHI9e"
      },
      "source": [
        "## #03 -\n",
        "\n",
        "Which of those State values has the highest frequency of occurence?"
      ]
    },
    {
      "cell_type": "code",
      "execution_count": 15,
      "metadata": {
        "nbgrader": {
          "grade": false,
          "grade_id": "q03-solution",
          "locked": false,
          "schema_version": 1,
          "solution": true
        },
        "colab": {
          "base_uri": "https://localhost:8080/",
          "height": 35
        },
        "id": "Q9issKiKHI9e",
        "outputId": "d351ecf9-1334-45dc-9b43-b3a799e15b98"
      },
      "outputs": [
        {
          "output_type": "execute_result",
          "data": {
            "text/plain": [
              "'TX'"
            ],
            "application/vnd.google.colaboratory.intrinsic+json": {
              "type": "string"
            }
          },
          "metadata": {},
          "execution_count": 15
        }
      ],
      "source": [
        "# Write some code to figure it out\n",
        "# Finding State values has the highest frequency of occurence\n",
        "state_frequency = hhcaps['State'].value_counts()\n",
        "highest_frequency_state = state_frequency.idxmax()\n",
        "\n",
        "\n",
        "highest_frequency_state"
      ]
    },
    {
      "cell_type": "code",
      "execution_count": 16,
      "metadata": {
        "nbgrader": {
          "grade": true,
          "grade_id": "q03-test",
          "locked": true,
          "points": 2,
          "schema_version": 1,
          "solution": false
        },
        "id": "kiucgyXJHI9f"
      },
      "outputs": [],
      "source": [
        "answers['40.3'] = \"TX\""
      ]
    },
    {
      "cell_type": "markdown",
      "metadata": {
        "nbgrader": {
          "grade": false,
          "grade_id": "q04-intro",
          "locked": true,
          "schema_version": 1,
          "solution": false
        },
        "id": "-ZaZnimEHI9f"
      },
      "source": [
        "## #04 -\n",
        "\n",
        "Which of those State values has the best average performance on the `Star Rating for health team communicated well with them` score?"
      ]
    },
    {
      "cell_type": "code",
      "source": [
        "# Calculating the best average communication score by state\n",
        "state_communication_scores = hhcaps.groupby('State')['Star Rating for health team communicated well with them'].mean().sort_values(ascending=False)\n",
        "\n",
        "# Identify the state with the best average performance score\n",
        "best_average_performing_state = state_communication_scores.index[0]\n",
        "\n",
        "print(best_average_performing_state)"
      ],
      "metadata": {
        "id": "NRZZQXYlxUiX",
        "outputId": "06177db3-2141-4f4e-a9fb-182025f9bd6f",
        "colab": {
          "base_uri": "https://localhost:8080/"
        }
      },
      "execution_count": 17,
      "outputs": [
        {
          "output_type": "stream",
          "name": "stdout",
          "text": [
            "ME\n"
          ]
        }
      ]
    },
    {
      "cell_type": "code",
      "execution_count": 18,
      "metadata": {
        "nbgrader": {
          "grade": true,
          "grade_id": "q04-test",
          "locked": true,
          "points": 2,
          "schema_version": 1,
          "solution": false
        },
        "id": "lWlKF4SDHI9f"
      },
      "outputs": [],
      "source": [
        "answers['40.4'] = \"ME\""
      ]
    },
    {
      "cell_type": "markdown",
      "metadata": {
        "nbgrader": {
          "grade": false,
          "grade_id": "q05-intro",
          "locked": true,
          "schema_version": 1,
          "solution": false
        },
        "id": "5nGtVHM-HI9f"
      },
      "source": [
        "## #05 -\n",
        "\n",
        "What was the average score on `Star Rating for how patients rated overall care from agency` for providers listed as having a `Type of Ownership` of `Hospital Based Program`\n",
        "\n",
        "**NOTE: Enter your answer with two decimal precision: 0.00**"
      ]
    },
    {
      "cell_type": "code",
      "source": [
        "# Filtering rows where \"Type of Ownership\" is \"Hospital Based Program\"\n",
        "hospital_based_providers = hhcaps[hhcaps['Type of Ownership'] == 'Hospital Based Program']\n",
        "\n",
        "# Calculating the average score for overall care rating\n",
        "average_overall_care_score = hospital_based_providers['Star Rating for how patients rated overall care from agency'].mean()\n",
        "\n",
        "# Print\n",
        "print(f\"{average_overall_care_score:.2f}\")"
      ],
      "metadata": {
        "colab": {
          "base_uri": "https://localhost:8080/"
        },
        "id": "ygY4WeV5yQxc",
        "outputId": "4b3223c0-c668-49dd-b6cb-487bd8e46bd2"
      },
      "execution_count": 19,
      "outputs": [
        {
          "output_type": "stream",
          "name": "stdout",
          "text": [
            "3.69\n"
          ]
        }
      ]
    },
    {
      "cell_type": "code",
      "execution_count": 20,
      "metadata": {
        "nbgrader": {
          "grade": true,
          "grade_id": "q05-test",
          "locked": true,
          "points": 2,
          "schema_version": 1,
          "solution": false
        },
        "id": "Esp1bnNBHI9g"
      },
      "outputs": [],
      "source": [
        "answers['40.5'] = 3.69 # NOTE: Write answer as number in form N.NN (No additional digits)"
      ]
    },
    {
      "cell_type": "markdown",
      "metadata": {
        "id": "Z7HbLXrTHI9g"
      },
      "source": [
        "---\n",
        "\n",
        "Checking Your Work\n",
        "---\n",
        "\n",
        "After completing your work above and running each cell, you can check your answers by running the code below.\n",
        "\n",
        "The easiest way to do this is to use the `Kernel` -> `Restart Kernel and Run All Cells` menu option. This option restarts Python and runs every cell from top to bottom until it encounters an exception of some kind.  It will stop after running the cell below and outputing a summary of how many answers you have correct or incorrect.\n"
      ]
    },
    {
      "cell_type": "code",
      "execution_count": 21,
      "metadata": {
        "colab": {
          "base_uri": "https://localhost:8080/"
        },
        "id": "21NyuqfrHI9g",
        "outputId": "90610430-f7a0-4c77-d1c3-805e66a264f5"
      },
      "outputs": [
        {
          "output_type": "stream",
          "name": "stdout",
          "text": [
            "Question 40.1 is CORRECT\n",
            "Question 40.2 is CORRECT\n",
            "Question 40.3 is CORRECT\n",
            "Question 40.4 is CORRECT\n",
            "Question 40.5 is CORRECT\n"
          ]
        }
      ],
      "source": [
        "import pickle\n",
        "\n",
        "data = b\"\\x80\\x04\\x95?\\x00\\x00\\x00\\x00\\x00\\x00\\x00}\\x94(\\x8c\\x0440.1\\x94K'\\x8c\\x0440.2\\x94K7\\x8c\\x0440.3\\x94\\x8c\\x02TX\\x94\\x8c\\x0440.4\\x94\\x8c\\x02ME\\x94\\x8c\\x0440.5\\x94G@\\r\\x85\\x1e\\xb8Q\\xeb\\x85u.\"\n",
        "result = pickle.loads(data)\n",
        "\n",
        "for key in result:\n",
        "  if answers[key] == result[key]:\n",
        "    print(f\"Question {key} is CORRECT\")\n",
        "  else:\n",
        "    print(f\"Question {key} is INCORRECT\")"
      ]
    },
    {
      "cell_type": "markdown",
      "metadata": {
        "id": "ELnS7T8zHI9g"
      },
      "source": [
        "---\n",
        "\n",
        "## Check your work above\n",
        "\n",
        "If you didn't get them all correct, take a few minutes to think through those that aren't correct.\n",
        "\n",
        "\n",
        "## Submitting Your Work\n",
        "\n",
        "In order to submit your work, you'll need to save this notebook file back to GitHub.  To do that in Google Colab:\n",
        "1. File -> Save a Copy in GitHub\n",
        "2. Make sure your HDS5210 repository is selected\n",
        "3. Make sure the file name includes the week number like this: `week14/week14_assignment_1.ipynb`\n",
        "4. Add a commit message that means something\n",
        "\n",
        "**Be sure week names are lowercase and use a two digit week number!!**\n",
        "\n",
        "**Be sure you use the same file name provided by the instructor!!**\n",
        "\n"
      ]
    }
  ],
  "metadata": {
    "celltoolbar": "Create Assignment",
    "kernelspec": {
      "display_name": "Python 3 (ipykernel)",
      "language": "python",
      "name": "python3"
    },
    "language_info": {
      "codemirror_mode": {
        "name": "ipython",
        "version": 3
      },
      "file_extension": ".py",
      "mimetype": "text/x-python",
      "name": "python",
      "nbconvert_exporter": "python",
      "pygments_lexer": "ipython3",
      "version": "3.13.0"
    },
    "colab": {
      "provenance": [],
      "include_colab_link": true
    }
  },
  "nbformat": 4,
  "nbformat_minor": 0
}