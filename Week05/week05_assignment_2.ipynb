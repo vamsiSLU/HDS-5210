{
  "cells": [
    {
      "cell_type": "markdown",
      "metadata": {
        "nbgrader": {
          "grade": false,
          "grade_id": "intro",
          "locked": true,
          "schema_version": 1,
          "solution": false
        },
        "id": "8BUmre6-5tKR"
      },
      "source": [
        "# Week 5 Exercises\n",
        "\n",
        "_McKinney 3.2_\n",
        "\n",
        "**Unlike in previous weeks, in the exercises below, you will need to create a function definition from scratch.  I'll provide specific instructions and examples for how it will be used, but you will have to do the work of definiging the whole function.**\n",
        "\n",
        "---\n",
        "---"
      ]
    },
    {
      "cell_type": "markdown",
      "metadata": {
        "nbgrader": {
          "grade": false,
          "grade_id": "longest",
          "locked": true,
          "schema_version": 1,
          "solution": false
        },
        "id": "JueVcZXR5tKS"
      },
      "source": [
        "### 25.1 Longest String\n",
        "\n",
        "Write a function called `longest (L)` that takes as its only parameter a list of strings.  Your function needs to find the longest of those strings and return the position number of that longest string.  An example is provided below:\n",
        "\n",
        "The longest word in that list of strings is \"birthday\" in position #1, so `longest(strings)` should return 1.\n",
        "```\n",
        ">>> strings = ['happy', 'birthday', 'to', 'me']\n",
        ">>> longest(strings)\n",
        "1\n",
        "```\n",
        "\n",
        "Be sure to include a docstring.  Include test cases in your docstring if you want to."
      ]
    },
    {
      "cell_type": "code",
      "execution_count": 17,
      "metadata": {
        "nbgrader": {
          "grade": false,
          "grade_id": "longest-answer",
          "locked": false,
          "schema_version": 1,
          "solution": true
        },
        "id": "bvJxStM55tKS"
      },
      "outputs": [],
      "source": [
        "### BEGIN SOLUTION\n",
        "def longest(L):\n",
        "    \"\"\"\n",
        "    Returns the position number of the longest string.\n",
        "\n",
        "    Args:\n",
        "    L (list): List of strings.\n",
        "\n",
        "    Returns:\n",
        "    int: The position number of the longest string.\n",
        "\n",
        "   If there are several strings that share the maximum length, the function should return the index of the first string that reaches this maximum length.\n",
        "\n",
        "\n",
        "    >>> longest(['happy', 'birthday', 'to', 'me'])\n",
        "    1\n",
        "    >>> longest([\"enjoy\", \"class\"])\n",
        "    0\n",
        "    >>> longest(['when', 'what', 'where', 'how', 'who'])\n",
        "    2\n",
        "    \"\"\"\n",
        "    if not L:\n",
        "        return -1  # Return -1 if the list is empty\n",
        "    max_len = -1\n",
        "    max_index = -1\n",
        "    for i, s in enumerate(L):\n",
        "        if len(s) > max_len:\n",
        "            max_len = len(s)\n",
        "            max_index = i\n",
        "    return max_index\n",
        "### END SOLUTION\n"
      ]
    },
    {
      "cell_type": "code",
      "execution_count": 18,
      "metadata": {
        "nbgrader": {
          "grade": true,
          "grade_id": "longest-tests",
          "locked": true,
          "points": 10,
          "schema_version": 1,
          "solution": false
        },
        "id": "MdlLEK9p5tKT"
      },
      "outputs": [],
      "source": [
        "assert longest(\"happy birthday to me\".split(\" \")) == 1\n",
        "assert longest(\"enjoy class\".split(\" \")) == 0\n",
        "assert longest(['when','what','where','how','who']) == 2"
      ]
    },
    {
      "cell_type": "code",
      "execution_count": 19,
      "metadata": {
        "id": "jD8pak3e5tKT",
        "outputId": "e4cee3e3-4cc6-45cb-d50e-8295303e8203",
        "colab": {
          "base_uri": "https://localhost:8080/"
        }
      },
      "outputs": [
        {
          "output_type": "stream",
          "name": "stdout",
          "text": [
            "Finding tests in NoName\n",
            "Trying:\n",
            "    longest(['happy', 'birthday', 'to', 'me'])\n",
            "Expecting:\n",
            "    1\n",
            "ok\n",
            "Trying:\n",
            "    longest([\"enjoy\", \"class\"])\n",
            "Expecting:\n",
            "    0\n",
            "ok\n",
            "Trying:\n",
            "    longest(['when', 'what', 'where', 'how', 'who'])\n",
            "Expecting:\n",
            "    2\n",
            "ok\n"
          ]
        }
      ],
      "source": [
        "import doctest\n",
        "doctest.run_docstring_examples(longest, globals(), verbose=True)"
      ]
    },
    {
      "cell_type": "markdown",
      "metadata": {
        "id": "lhT23rXT5tKU"
      },
      "source": [
        "### 25.2 Farenheit to Celsius\n",
        "\n",
        "Write a function called f_to_c() that converts a given temperature in degrees Farenheit to degrees Celsius.  If you don't recall that conversion, it is:\n",
        "\n",
        "$ temp_c = \\frac{5}{9} \\times (temp_f - 32) $\n",
        "\n",
        "Make sure that you code is well documented using the DocString examples, and that your code includes tests for 212f, 32f, and 98.6f."
      ]
    },
    {
      "cell_type": "code",
      "execution_count": 20,
      "metadata": {
        "id": "g0YmuCQU5tKU"
      },
      "outputs": [],
      "source": [
        "### BEGIN SOLUTION\n",
        "def f_to_c(tempf):\n",
        "    \"\"\"\n",
        "    Converting a given temperature in degrees Farenheit to degrees Celsius.\n",
        "\n",
        "    The formula used for this conversion is:\n",
        "    tempc=5/9×(tempf−32)\n",
        "\n",
        "    Args:\n",
        "    tempf (float): Temperature in degrees Fahrenheit.\n",
        "\n",
        "    Returns:\n",
        "    float: Temperature in degrees Celsius.\n",
        "\n",
        "\n",
        "    >>> f_to_c(212)\n",
        "    100.0\n",
        "    >>> f_to_c(32)\n",
        "    0.0\n",
        "    >>> f_to_c(98.6)\n",
        "    37.0\n",
        "\n",
        "    \"\"\"\n",
        "    return (5/9) * (tempf - 32)\n",
        "### END SOLUTION"
      ]
    },
    {
      "cell_type": "code",
      "execution_count": 21,
      "metadata": {
        "id": "zpPUIWJR5tKU"
      },
      "outputs": [],
      "source": [
        "assert f_to_c(212) == 100.0\n",
        "assert f_to_c(32) == 0.0\n",
        "assert f_to_c(98.6) == 37.0"
      ]
    },
    {
      "cell_type": "code",
      "execution_count": 22,
      "metadata": {
        "id": "puJrQqpE5tKU",
        "outputId": "2334ce1f-cc7b-4568-c922-b62d68b857a2",
        "colab": {
          "base_uri": "https://localhost:8080/"
        }
      },
      "outputs": [
        {
          "output_type": "stream",
          "name": "stdout",
          "text": [
            "Finding tests in NoName\n",
            "Trying:\n",
            "    f_to_c(212)\n",
            "Expecting:\n",
            "    100.0\n",
            "ok\n",
            "Trying:\n",
            "    f_to_c(32)\n",
            "Expecting:\n",
            "    0.0\n",
            "ok\n",
            "Trying:\n",
            "    f_to_c(98.6)\n",
            "Expecting:\n",
            "    37.0\n",
            "ok\n"
          ]
        }
      ],
      "source": [
        "import doctest\n",
        "doctest.run_docstring_examples(f_to_c, globals(), verbose=True)"
      ]
    },
    {
      "cell_type": "markdown",
      "metadata": {
        "id": "W7xguo2n5tKU"
      },
      "source": [
        "### 25.3 Computing Length of Stay\n",
        "\n",
        "For this problem, we have a collection of patient enounter data stored as a Python dictionary.  The `key` for the dictionary is the **encounter ID**, a code that starts with the letter `E` followed by four numbers.  The value associated with each encounter ID is another Python dictionary.  This \"inner\" dictionary holds three items: admit date, primary diagnosis, and discharge date.  See the example in the code below.\n",
        "\n",
        "You need to write a length of stay function that computes the length of stay, in whole days, between the admit date and discharge date.  However, if the diagnosis is \"Observation\" then the length of stay should always be returned as 0 regardless of the admit and discharge dates. Your function should should take three parameters: a start date, an end date, and a diagnosis.\n",
        "\n",
        "You will find it handy to refer to this example here on how to calculate the number of days between two dates: https://stackoverflow.com/questions/151199/how-to-calculate-number-of-days-between-two-given-dates"
      ]
    },
    {
      "cell_type": "code",
      "execution_count": 23,
      "metadata": {
        "id": "a9fn3oi95tKU"
      },
      "outputs": [],
      "source": [
        "from datetime import date\n",
        "\n",
        "### BEGIN SOLUTION\n",
        "def los(admit_date, discharge_date, diagnosis):\n",
        "    \"\"\"\n",
        "    Computing the Length of Stay (LOS) in whole days between the admit and discharge dates.\n",
        "\n",
        "    If the diagnosis is \"Observation\", the LOS will always be 0 days.\n",
        "\n",
        "    Args:\n",
        "    admit_date (date): The admit date of the patient.\n",
        "    discharge_date (date): The discharge date of the patient.\n",
        "    diagnosis (str): The primary diagnosis for the encounter.\n",
        "\n",
        "    Returns:\n",
        "    int: The Length of Stay in whole days between the admit date and discharge date.\n",
        "\n",
        "\n",
        "    >>> los(date(2019, 1, 3), date(2019, 1, 8), \"COPD\")\n",
        "    5\n",
        "    >>> los(date(2020, 1, 5), date(2020, 1, 8), \"Observation\")\n",
        "    0\n",
        "    \"\"\"\n",
        "    if diagnosis == \"Observation\":\n",
        "        return 0\n",
        "\n",
        "    # Calculating the number of days between admit_date and discharge_date\n",
        "    return ( discharge_date- admit_date).days\n",
        "### END SOLUTION"
      ]
    },
    {
      "cell_type": "code",
      "execution_count": 24,
      "metadata": {
        "id": "XDZACamC5tKU"
      },
      "outputs": [],
      "source": [
        "assert los(date(2019,1,3), date(2019,1,8), \"COPD\") == 5\n",
        "assert los(date(2020,1,5), date(2020,1,8), \"Observation\") == 0"
      ]
    },
    {
      "cell_type": "code",
      "execution_count": 25,
      "metadata": {
        "id": "NsLj2NQS5tKV",
        "outputId": "7ab53363-9fd8-4ef7-be0e-f1facf612a31",
        "colab": {
          "base_uri": "https://localhost:8080/"
        }
      },
      "outputs": [
        {
          "output_type": "stream",
          "name": "stdout",
          "text": [
            "Finding tests in NoName\n",
            "Trying:\n",
            "    los(date(2019, 1, 3), date(2019, 1, 8), \"COPD\")\n",
            "Expecting:\n",
            "    5\n",
            "ok\n",
            "Trying:\n",
            "    los(date(2020, 1, 5), date(2020, 1, 8), \"Observation\")\n",
            "Expecting:\n",
            "    0\n",
            "ok\n"
          ]
        }
      ],
      "source": [
        "import doctest\n",
        "doctest.run_docstring_examples(los, globals(), verbose=True)"
      ]
    },
    {
      "cell_type": "code",
      "execution_count": 26,
      "metadata": {
        "id": "qHyPvptM5tKV",
        "outputId": "41d4cf8e-ad5c-4c35-d51f-b8e766aa0242",
        "colab": {
          "base_uri": "https://localhost:8080/"
        }
      },
      "outputs": [
        {
          "output_type": "stream",
          "name": "stdout",
          "text": [
            "5\n",
            "4\n",
            "1\n",
            "0\n",
            "0\n"
          ]
        }
      ],
      "source": [
        "encounters = {\n",
        "    \"E1234\": { \"admit\": date(2019,1,3), \"diagnosis\": \"COPD\", \"discharge\": date(2019,1,8) },\n",
        "    \"E8342\": { \"admit\": date(2019,1,5), \"diagnosis\": \"Hypertension\", \"discharge\": date(2019,1,9) },\n",
        "    \"E9231\": { \"admit\": date(2019,1,12), \"diagnosis\": \"Anxiety\", \"discharge\": date(2019,1,13) },\n",
        "    \"E8333\": { \"admit\": date(2019,1,15), \"diagnosis\": \"Observation\", \"discharge\": date(2019,1,16) },\n",
        "    \"E3342\": { \"admit\": date(2019,1,4), \"diagnosis\": \"Anxiety\", \"discharge\": date(2019,1,4)}\n",
        "}\n",
        "\n",
        "\n",
        "for encid, visit in encounters.items():\n",
        "    print(los(visit['admit'],visit['discharge'],visit['diagnosis']))\n",
        "\n",
        "# Your output should be\n",
        "# 5\n",
        "# 4\n",
        "# 1\n",
        "# 0\n",
        "# 0"
      ]
    },
    {
      "cell_type": "markdown",
      "metadata": {
        "id": "d6I90U9i5tKV"
      },
      "source": [
        "---\n",
        "---\n",
        "\n",
        "### 25.4 Average Length of Stay\n",
        "\n",
        "Create a function called `average_los` that returns the average of the LOS for the encounters in the provided dictionary. The encounters must be a dictionary that contains dictionaries that each contain at least an admit date and a discharge date.\n",
        "    \n",
        "If the length of stay of any individual encounter is 0, then it will not be counted toward the average."
      ]
    },
    {
      "cell_type": "code",
      "execution_count": 27,
      "metadata": {
        "id": "tq30i5d45tKV"
      },
      "outputs": [],
      "source": [
        "\n",
        "### BEGIN SOLUTION\n",
        "from datetime import date\n",
        "\n",
        "def average_los(encounters):\n",
        "    \"\"\"\n",
        "    Calculate the Average Length of Stay (LOS) for encounters.\n",
        "\n",
        "    The Length of Stay (LOS) is the difference between the discharge date and the admit date.\n",
        "    If the diagnosis is \"Observation\", the Length of Stay (LOS) is always 0, regardless of the dates.\n",
        "\n",
        "    Args:\n",
        "    encounters (dict): A dictionary that holds encounter data, where each encounter includes an 'admit' date,\n",
        "                       and a 'discharge' date\n",
        "    Returns:\n",
        "    float: The average Length of Stay (LOS) rounded to two decimal places.\n",
        "\n",
        "    Examples:\n",
        "    >>> encounters = {\n",
        "    \"E1234\": { \"admit\": date(2019, 1, 3), \"diagnosis\": \"COPD\", \"discharge\": date(2019, 1, 8) },\n",
        "    \"E8342\": { \"admit\": date(2019, 1, 5), \"diagnosis\": \"Hypertension\", \"discharge\": date(2019, 1, 9) },\n",
        "    \"E9231\": { \"admit\": date(2019, 1, 12), \"diagnosis\": \"Anxiety\", \"discharge\": date(2019, 1, 13) },\n",
        "    \"E8333\": { \"admit\": date(2019, 1, 15), \"diagnosis\": \"Observation\", \"discharge\": date(2019, 1, 16) },\n",
        "    \"E3342\": { \"admit\": date(2019, 1, 4), \"diagnosis\": \"Anxiety\", \"discharge\": date(2019, 1, 4)}\n",
        "    }\n",
        "\n",
        "    >>> round(average_los(encounters), 2)\n",
        "    3.33\n",
        "    \"\"\"\n",
        "    total_los = 0\n",
        "    valid_encounters = 0\n",
        "\n",
        "    for encounter in encounters.values():\n",
        "        if encounter.get('diagnosis') == \"Observation\":\n",
        "            los = 0\n",
        "        else:\n",
        "            los = (encounter['discharge'] - encounter['admit']).days\n",
        "\n",
        "        if los > 0:\n",
        "            total_los += los\n",
        "            valid_encounters += 1\n",
        "\n",
        "    if valid_encounters == 0:\n",
        "        return 0\n",
        "\n",
        "    return total_los / valid_encounters\n",
        "\n",
        "\n",
        "  ### END SOLUTION"
      ]
    },
    {
      "cell_type": "code",
      "execution_count": 28,
      "metadata": {
        "id": "9uw1ON1W5tKV"
      },
      "outputs": [],
      "source": [
        "from datetime import date\n",
        "encounters = {\n",
        "    \"E1234\": { \"admit\": date(2019,1,3), \"diagnosis\": \"COPD\", \"discharge\": date(2019,1,8) },\n",
        "    \"E8342\": { \"admit\": date(2019,1,5), \"diagnosis\": \"Hypertension\", \"discharge\": date(2019,1,9) },\n",
        "    \"E9231\": { \"admit\": date(2019,1,12), \"diagnosis\": \"Anxiety\", \"discharge\": date(2019,1,13) },\n",
        "    \"E8333\": { \"admit\": date(2019,1,15), \"diagnosis\": \"Observation\", \"discharge\": date(2019,1,16) },\n",
        "    \"E3342\": { \"admit\": date(2019,1,4), \"diagnosis\": \"Anxiety\", \"discharge\": date(2019,1,4)}\n",
        "}\n",
        "\n",
        "assert(round(average_los(encounters),2) == 3.33)"
      ]
    },
    {
      "cell_type": "code",
      "execution_count": 29,
      "metadata": {
        "colab": {
          "base_uri": "https://localhost:8080/"
        },
        "id": "cT3qMvH15tKV",
        "outputId": "ab3cdf91-84b5-44f9-959b-4afc86d6297a"
      },
      "outputs": [
        {
          "output_type": "stream",
          "name": "stdout",
          "text": [
            "Finding tests in NoName\n",
            "Trying:\n",
            "    encounters = { \n",
            "Expecting:\n",
            "    \"E1234\": { \"admit\": date(2019, 1, 3), \"diagnosis\": \"COPD\", \"discharge\": date(2019, 1, 8) },\n",
            "    \"E8342\": { \"admit\": date(2019, 1, 5), \"diagnosis\": \"Hypertension\", \"discharge\": date(2019, 1, 9) },\n",
            "    \"E9231\": { \"admit\": date(2019, 1, 12), \"diagnosis\": \"Anxiety\", \"discharge\": date(2019, 1, 13) },\n",
            "    \"E8333\": { \"admit\": date(2019, 1, 15), \"diagnosis\": \"Observation\", \"discharge\": date(2019, 1, 16) },\n",
            "    \"E3342\": { \"admit\": date(2019, 1, 4), \"diagnosis\": \"Anxiety\", \"discharge\": date(2019, 1, 4)}\n",
            "    }\n",
            "**********************************************************************\n",
            "File \"__main__\", line 18, in NoName\n",
            "Failed example:\n",
            "    encounters = { \n",
            "Exception raised:\n",
            "    Traceback (most recent call last):\n",
            "      File \"/usr/lib/python3.10/doctest.py\", line 1350, in __run\n",
            "        exec(compile(example.source, filename, \"single\",\n",
            "      File \"<doctest NoName[0]>\", line 1\n",
            "        encounters = { \n",
            "                     ^\n",
            "    SyntaxError: '{' was never closed\n",
            "Trying:\n",
            "    round(average_los(encounters), 2)\n",
            "Expecting:\n",
            "    3.33\n",
            "ok\n"
          ]
        }
      ],
      "source": [
        "import doctest\n",
        "doctest.run_docstring_examples(average_los, globals(), verbose=True)"
      ]
    },
    {
      "cell_type": "markdown",
      "metadata": {
        "id": "spWNRXSo5tKV"
      },
      "source": [
        "---\n",
        "\n",
        "### 25.5 Celsius to Farenheit\n",
        "\n",
        "Write your own function called `c_to_f` that converts degrees Celsius to degrees Farenheit.  Include in your solution a series of doc tests that can verify the conversion using inputs of 100, 0, and 37 degrees Celsius"
      ]
    },
    {
      "cell_type": "code",
      "execution_count": 30,
      "metadata": {
        "id": "nrL2TbO65tKV"
      },
      "outputs": [],
      "source": [
        "### BEGIN SOLUTION\n",
        "def c_to_f(tempc):\n",
        "    \"\"\"\n",
        "    Converting a temperature from degrees Celsius to degrees Fahrenheit.\n",
        "\n",
        "    The formula used for this conversion is:\n",
        "    tempf = (tempc * 9/5) + 32\n",
        "\n",
        "    Args:\n",
        "    tempc (float): Temperature in degrees Celsius.\n",
        "\n",
        "    Returns:\n",
        "    float: Temperature in degrees Fahrenheit.\n",
        "\n",
        "\n",
        "    >>> c_to_f(100)\n",
        "    212.0\n",
        "    >>> c_to_f(0)\n",
        "    32.0\n",
        "    >>> c_to_f(37)\n",
        "    98.6\n",
        "\n",
        "    \"\"\"\n",
        "    return (tempc * 9/5) + 32\n",
        "### END SOLUTION"
      ]
    },
    {
      "cell_type": "code",
      "execution_count": 31,
      "metadata": {
        "id": "xqyuZ-8A5tKW",
        "outputId": "f8a6e226-4126-492f-d5dc-937f7c9b906f",
        "colab": {
          "base_uri": "https://localhost:8080/"
        }
      },
      "outputs": [
        {
          "output_type": "stream",
          "name": "stdout",
          "text": [
            "Finding tests in NoName\n",
            "Trying:\n",
            "    c_to_f(100)\n",
            "Expecting:\n",
            "    212.0\n",
            "ok\n",
            "Trying:\n",
            "    c_to_f(0)\n",
            "Expecting:\n",
            "    32.0\n",
            "ok\n",
            "Trying:\n",
            "    c_to_f(37)\n",
            "Expecting:\n",
            "    98.6\n",
            "ok\n"
          ]
        }
      ],
      "source": [
        "import doctest\n",
        "doctest.run_docstring_examples(c_to_f, globals(), verbose=True)"
      ]
    },
    {
      "cell_type": "code",
      "execution_count": null,
      "metadata": {
        "id": "dhNDDYJR5tKW"
      },
      "outputs": [],
      "source": []
    },
    {
      "cell_type": "markdown",
      "metadata": {
        "id": "foYEEDAB5tKW"
      },
      "source": [
        "---\n",
        "\n",
        "## Check your work above\n",
        "\n",
        "If you didn't get them all correct, take a few minutes to think through those that aren't correct.\n",
        "\n",
        "\n",
        "## Submitting Your Work\n",
        "\n",
        "In order to submit your work, you'll need to use the `git` command line program to **add** your homework file (this file) to your local repository, **commit** your changes to your local repository, and then **push** those changes up to github.com.  From there, I'll be able to **pull** the changes down and do my grading.  I'll provide some feedback, **commit** and **push** my comments back to you.  Next week, I'll show you how to **pull** down my comments.\n",
        "\n",
        "First run through everything one last time and submit your work:\n",
        "1. Use the `Kernel` -> `Restart Kernel and Run All Cells` menu option to run everything from top to bottom and stop here.\n",
        "2. Then open a new command line by clicking the `+` icon above the file list and chosing `Terminal`\n",
        "3. At the command line in the new Terminal, follow these steps:\n",
        "  1. Change directories to your project folder and the week03 subfolder (`cd <folder name>`)\n",
        "  2. Make sure your project folders are up to date with github.com (`git pull`)\n",
        "  3. Add the homework files for this week (`git add <file name>`)\n",
        "  4. Commit your changes (`git commit -a -m \"message\"`)\n",
        "  5. Push your changes (`git push`)\n",
        "  \n",
        "If anything fails along the way with this submission part of the process, let me know.  I'll help you troubleshoort."
      ]
    }
  ],
  "metadata": {
    "celltoolbar": "Create Assignment",
    "kernelspec": {
      "display_name": "Python 3",
      "language": "python",
      "name": "python3"
    },
    "language_info": {
      "codemirror_mode": {
        "name": "ipython",
        "version": 3
      },
      "file_extension": ".py",
      "mimetype": "text/x-python",
      "name": "python",
      "nbconvert_exporter": "python",
      "pygments_lexer": "ipython3",
      "version": "3.6.7"
    },
    "colab": {
      "provenance": []
    }
  },
  "nbformat": 4,
  "nbformat_minor": 0
}